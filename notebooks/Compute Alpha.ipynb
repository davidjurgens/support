{
 "cells": [
  {
   "cell_type": "code",
   "execution_count": 3,
   "metadata": {},
   "outputs": [],
   "source": [
    "import pandas as pd\n",
    "import krippendorff_alpha\n",
    "from collections import *"
   ]
  },
  {
   "cell_type": "code",
   "execution_count": 4,
   "metadata": {},
   "outputs": [
    {
     "name": "stderr",
     "output_type": "stream",
     "text": [
      "/Users/jurgens/anaconda3/lib/python3.6/site-packages/IPython/core/interactiveshell.py:2785: DtypeWarning: Columns (4,18,19,20,21,23,24,25,26,34,35) have mixed types. Specify dtype option on import or set low_memory=False.\n",
      "  interactivity=interactivity, compiler=compiler, result=result)\n"
     ]
    }
   ],
   "source": [
    "#df = pd.read_csv('../../working-dir/annotation/f1220800.csv')\n",
    "df = pd.read_csv('../../working-dir/annotation/f1232243.csv')\n"
   ]
  },
  {
   "cell_type": "code",
   "execution_count": 5,
   "metadata": {},
   "outputs": [
    {
     "name": "stdout",
     "output_type": "stream",
     "text": [
      "27097\n",
      "35828\n"
     ]
    }
   ],
   "source": [
    "print(len(df[df['_golden'] != True]))\n",
    "print(len(df))"
   ]
  },
  {
   "cell_type": "code",
   "execution_count": 6,
   "metadata": {},
   "outputs": [
    {
     "data": {
      "text/html": [
       "<div>\n",
       "<style scoped>\n",
       "    .dataframe tbody tr th:only-of-type {\n",
       "        vertical-align: middle;\n",
       "    }\n",
       "\n",
       "    .dataframe tbody tr th {\n",
       "        vertical-align: top;\n",
       "    }\n",
       "\n",
       "    .dataframe thead th {\n",
       "        text-align: right;\n",
       "    }\n",
       "</style>\n",
       "<table border=\"1\" class=\"dataframe\">\n",
       "  <thead>\n",
       "    <tr style=\"text-align: right;\">\n",
       "      <th></th>\n",
       "      <th>_unit_id</th>\n",
       "      <th>_created_at</th>\n",
       "      <th>_golden</th>\n",
       "      <th>_id</th>\n",
       "      <th>_missed</th>\n",
       "      <th>_started_at</th>\n",
       "      <th>_tainted</th>\n",
       "      <th>_channel</th>\n",
       "      <th>_trust</th>\n",
       "      <th>_worker_id</th>\n",
       "      <th>...</th>\n",
       "      <th>post</th>\n",
       "      <th>post_id</th>\n",
       "      <th>post_user</th>\n",
       "      <th>reply</th>\n",
       "      <th>reply_id</th>\n",
       "      <th>reply_user</th>\n",
       "      <th>source</th>\n",
       "      <th>support_gold</th>\n",
       "      <th>support_gold_reason</th>\n",
       "      <th>type</th>\n",
       "    </tr>\n",
       "  </thead>\n",
       "  <tbody>\n",
       "    <tr>\n",
       "      <th>5177</th>\n",
       "      <td>1575934039</td>\n",
       "      <td>2/5/2018 09:07:59</td>\n",
       "      <td>False</td>\n",
       "      <td>3337427909</td>\n",
       "      <td>NaN</td>\n",
       "      <td>2/5/2018 09:02:35</td>\n",
       "      <td>False</td>\n",
       "      <td>clixsense</td>\n",
       "      <td>0.8409</td>\n",
       "      <td>44263462</td>\n",
       "      <td>...</td>\n",
       "      <td>Well that didnt take long</td>\n",
       "      <td>cj4hzgi</td>\n",
       "      <td>reddit-Abstraction1</td>\n",
       "      <td>What didnt?</td>\n",
       "      <td>cj4i1cc</td>\n",
       "      <td>reddit-NDT4POTUS</td>\n",
       "      <td>reddit-worldnews-2014</td>\n",
       "      <td>NaN</td>\n",
       "      <td>NaN</td>\n",
       "      <td>short-short</td>\n",
       "    </tr>\n",
       "    <tr>\n",
       "      <th>5178</th>\n",
       "      <td>1575934039</td>\n",
       "      <td>2/5/2018 09:09:29</td>\n",
       "      <td>False</td>\n",
       "      <td>3337429271</td>\n",
       "      <td>NaN</td>\n",
       "      <td>2/5/2018 09:02:54</td>\n",
       "      <td>False</td>\n",
       "      <td>neodev</td>\n",
       "      <td>0.8182</td>\n",
       "      <td>43383795</td>\n",
       "      <td>...</td>\n",
       "      <td>Well that didnt take long</td>\n",
       "      <td>cj4hzgi</td>\n",
       "      <td>reddit-Abstraction1</td>\n",
       "      <td>What didnt?</td>\n",
       "      <td>cj4i1cc</td>\n",
       "      <td>reddit-NDT4POTUS</td>\n",
       "      <td>reddit-worldnews-2014</td>\n",
       "      <td>NaN</td>\n",
       "      <td>NaN</td>\n",
       "      <td>short-short</td>\n",
       "    </tr>\n",
       "    <tr>\n",
       "      <th>5179</th>\n",
       "      <td>1575934039</td>\n",
       "      <td>2/5/2018 09:16:19</td>\n",
       "      <td>False</td>\n",
       "      <td>3337436215</td>\n",
       "      <td>NaN</td>\n",
       "      <td>2/5/2018 09:14:31</td>\n",
       "      <td>False</td>\n",
       "      <td>elite</td>\n",
       "      <td>0.8864</td>\n",
       "      <td>44235973</td>\n",
       "      <td>...</td>\n",
       "      <td>Well that didnt take long</td>\n",
       "      <td>cj4hzgi</td>\n",
       "      <td>reddit-Abstraction1</td>\n",
       "      <td>What didnt?</td>\n",
       "      <td>cj4i1cc</td>\n",
       "      <td>reddit-NDT4POTUS</td>\n",
       "      <td>reddit-worldnews-2014</td>\n",
       "      <td>NaN</td>\n",
       "      <td>NaN</td>\n",
       "      <td>short-short</td>\n",
       "    </tr>\n",
       "    <tr>\n",
       "      <th>5180</th>\n",
       "      <td>1575934040</td>\n",
       "      <td>2/5/2018 07:12:01</td>\n",
       "      <td>False</td>\n",
       "      <td>3337292127</td>\n",
       "      <td>NaN</td>\n",
       "      <td>2/5/2018 07:07:46</td>\n",
       "      <td>False</td>\n",
       "      <td>elite</td>\n",
       "      <td>0.7955</td>\n",
       "      <td>44166994</td>\n",
       "      <td>...</td>\n",
       "      <td>Im always amused when Im flying home and there...</td>\n",
       "      <td>csvv5j9</td>\n",
       "      <td>reddit-Hinph</td>\n",
       "      <td>and what people think is Vegas is really Paradise</td>\n",
       "      <td>csvy89s</td>\n",
       "      <td>reddit-Crazyredneck327</td>\n",
       "      <td>reddit-pics-2015</td>\n",
       "      <td>NaN</td>\n",
       "      <td>NaN</td>\n",
       "      <td>med-med</td>\n",
       "    </tr>\n",
       "    <tr>\n",
       "      <th>5181</th>\n",
       "      <td>1575934040</td>\n",
       "      <td>2/5/2018 07:15:08</td>\n",
       "      <td>False</td>\n",
       "      <td>3337296910</td>\n",
       "      <td>NaN</td>\n",
       "      <td>2/5/2018 07:07:43</td>\n",
       "      <td>False</td>\n",
       "      <td>elite</td>\n",
       "      <td>0.8095</td>\n",
       "      <td>44088065</td>\n",
       "      <td>...</td>\n",
       "      <td>Im always amused when Im flying home and there...</td>\n",
       "      <td>csvv5j9</td>\n",
       "      <td>reddit-Hinph</td>\n",
       "      <td>and what people think is Vegas is really Paradise</td>\n",
       "      <td>csvy89s</td>\n",
       "      <td>reddit-Crazyredneck327</td>\n",
       "      <td>reddit-pics-2015</td>\n",
       "      <td>NaN</td>\n",
       "      <td>NaN</td>\n",
       "      <td>med-med</td>\n",
       "    </tr>\n",
       "  </tbody>\n",
       "</table>\n",
       "<p>5 rows × 37 columns</p>\n",
       "</div>"
      ],
      "text/plain": [
       "        _unit_id        _created_at  _golden         _id _missed  \\\n",
       "5177  1575934039  2/5/2018 09:07:59    False  3337427909     NaN   \n",
       "5178  1575934039  2/5/2018 09:09:29    False  3337429271     NaN   \n",
       "5179  1575934039  2/5/2018 09:16:19    False  3337436215     NaN   \n",
       "5180  1575934040  2/5/2018 07:12:01    False  3337292127     NaN   \n",
       "5181  1575934040  2/5/2018 07:15:08    False  3337296910     NaN   \n",
       "\n",
       "            _started_at  _tainted   _channel  _trust  _worker_id     ...       \\\n",
       "5177  2/5/2018 09:02:35     False  clixsense  0.8409    44263462     ...        \n",
       "5178  2/5/2018 09:02:54     False     neodev  0.8182    43383795     ...        \n",
       "5179  2/5/2018 09:14:31     False      elite  0.8864    44235973     ...        \n",
       "5180  2/5/2018 07:07:46     False      elite  0.7955    44166994     ...        \n",
       "5181  2/5/2018 07:07:43     False      elite  0.8095    44088065     ...        \n",
       "\n",
       "                                                   post  post_id  \\\n",
       "5177                          Well that didnt take long  cj4hzgi   \n",
       "5178                          Well that didnt take long  cj4hzgi   \n",
       "5179                          Well that didnt take long  cj4hzgi   \n",
       "5180  Im always amused when Im flying home and there...  csvv5j9   \n",
       "5181  Im always amused when Im flying home and there...  csvv5j9   \n",
       "\n",
       "                post_user                                              reply  \\\n",
       "5177  reddit-Abstraction1                                        What didnt?   \n",
       "5178  reddit-Abstraction1                                        What didnt?   \n",
       "5179  reddit-Abstraction1                                        What didnt?   \n",
       "5180         reddit-Hinph  and what people think is Vegas is really Paradise   \n",
       "5181         reddit-Hinph  and what people think is Vegas is really Paradise   \n",
       "\n",
       "      reply_id              reply_user                 source  support_gold  \\\n",
       "5177   cj4i1cc        reddit-NDT4POTUS  reddit-worldnews-2014           NaN   \n",
       "5178   cj4i1cc        reddit-NDT4POTUS  reddit-worldnews-2014           NaN   \n",
       "5179   cj4i1cc        reddit-NDT4POTUS  reddit-worldnews-2014           NaN   \n",
       "5180   csvy89s  reddit-Crazyredneck327       reddit-pics-2015           NaN   \n",
       "5181   csvy89s  reddit-Crazyredneck327       reddit-pics-2015           NaN   \n",
       "\n",
       "     support_gold_reason         type  \n",
       "5177                 NaN  short-short  \n",
       "5178                 NaN  short-short  \n",
       "5179                 NaN  short-short  \n",
       "5180                 NaN      med-med  \n",
       "5181                 NaN      med-med  \n",
       "\n",
       "[5 rows x 37 columns]"
      ]
     },
     "execution_count": 6,
     "metadata": {},
     "output_type": "execute_result"
    }
   ],
   "source": [
    "annotations_df = df[df['_golden'] != True]\n",
    "annotations_df.head()"
   ]
  },
  {
   "cell_type": "code",
   "execution_count": 7,
   "metadata": {},
   "outputs": [],
   "source": [
    "# print Counter(annotations_df['_unit_id'])"
   ]
  },
  {
   "cell_type": "code",
   "execution_count": 8,
   "metadata": {},
   "outputs": [],
   "source": [
    "# agreement,offensiveness,politeness,support\n",
    "coder_to_ratings = defaultdict(dict)\n",
    "coder_to_agreement_ratings = defaultdict(dict)\n",
    "coder_to_offensiveness_ratings = defaultdict(dict)\n",
    "coder_to_politeness_ratings = defaultdict(dict)\n",
    "coder_to_support_ratings = defaultdict(dict)\n",
    "\n",
    "for index, row in annotations_df.iterrows():\n",
    "    coder = row['_worker_id']\n",
    "    unit = str(row['_unit_id'])\n",
    "    coder_to_ratings[coder][unit + ':agreement'] = row['agreement']\n",
    "    coder_to_ratings[coder][unit + ':offensiveness'] = row['offensiveness']\n",
    "    coder_to_ratings[coder][unit + ':politeness'] = row['politeness']\n",
    "    coder_to_ratings[coder][unit + ':support'] = row['support']    \n",
    "    coder_to_agreement_ratings[coder][unit + ':agreement'] = row['agreement']\n",
    "    coder_to_offensiveness_ratings[coder][unit + ':offensiveness'] = row['offensiveness']\n",
    "    coder_to_politeness_ratings[coder][unit + ':politeness'] = row['politeness']\n",
    "    coder_to_support_ratings[coder][unit + ':support'] = row['support']        "
   ]
  },
  {
   "cell_type": "code",
   "execution_count": 9,
   "metadata": {},
   "outputs": [],
   "source": [
    "data = list(coder_to_ratings.values())"
   ]
  },
  {
   "cell_type": "code",
   "execution_count": 10,
   "metadata": {},
   "outputs": [
    {
     "name": "stdout",
     "output_type": "stream",
     "text": [
      "0.766138132272\n"
     ]
    }
   ],
   "source": [
    "print(krippendorff_alpha.krippendorff_alpha(data))"
   ]
  }
 ],
 "metadata": {
  "kernelspec": {
   "display_name": "Python 3",
   "language": "python",
   "name": "python3"
  },
  "language_info": {
   "codemirror_mode": {
    "name": "ipython",
    "version": 3
   },
   "file_extension": ".py",
   "mimetype": "text/x-python",
   "name": "python",
   "nbconvert_exporter": "python",
   "pygments_lexer": "ipython3",
   "version": "3.6.5"
  }
 },
 "nbformat": 4,
 "nbformat_minor": 2
}
